{
 "cells": [
  {
   "cell_type": "markdown",
   "id": "b9375eec-7aaf-47cf-83a1-539198d3e1da",
   "metadata": {},
   "source": [
    "# Python problems on Data Structure\n",
    "## This is my submission for the first assignment given\n",
    "### Question 1: Cryptocurrency Token Data  \n",
    "This data structure represents information about different cryptocurrency tokens listed on a decentralized exchange (DEX).\n",
    "\n"
   ]
  },
  {
   "cell_type": "code",
   "execution_count": 3,
   "id": "9557176f-3991-489d-92e8-1ac2d63bd0d4",
   "metadata": {},
   "outputs": [],
   "source": [
    "# Data\n",
    "crypto_tokens = [\n",
    "    {\n",
    "        \"name\": \"Token A\",\n",
    "        \"symbol\": \"TKA\",\n",
    "        \"blockchain\": \"Ethereum\",\n",
    "        \"current_price_usd\": 100.0,\n",
    "        \"transaction_history\": [\n",
    "            {\n",
    "                \"date\": \"2024-01-10\",\n",
    "                \"prices\": {\n",
    "                    \"open\": 98.0,\n",
    "                    \"close\": 100.0,\n",
    "                    \"high\": 101.0,\n",
    "                    \"low\": 97.0\n",
    "                },\n",
    "                \"volume\": 12000\n",
    "            },\n",
    "            {\n",
    "                \"date\": \"2024-01-09\",\n",
    "                \"prices\": {\n",
    "                    \"open\": 97.0,\n",
    "                    \"close\": 98.0,\n",
    "                    \"high\": 99.0,\n",
    "                    \"low\": 96.0\n",
    "                },\n",
    "                \"volume\": 15000\n",
    "            }\n",
    "        ],\n",
    "        \"supported_chains\": [\"Ethereum\", \"Polygon\"]\n",
    "    },\n",
    "    {\n",
    "        \"name\": \"Token B\",\n",
    "        \"symbol\": \"TKB\",\n",
    "        \"blockchain\": \"Binance Smart Chain\",\n",
    "        \"current_price_usd\": 200.0,\n",
    "        \"transaction_history\": [\n",
    "            {\n",
    "                \"date\": \"2024-01-10\",\n",
    "                \"prices\": {\n",
    "                    \"open\": 198.0,\n",
    "                    \"close\": 200.0,\n",
    "                    \"high\": 202.0,\n",
    "                    \"low\": 196.0\n",
    "                },\n",
    "                \"volume\": 18000\n",
    "            },\n",
    "            {\n",
    "                \"date\": \"2024-01-09\",\n",
    "                \"prices\": {\n",
    "                    \"open\": 196.0,\n",
    "                    \"close\": 198.0,\n",
    "                    \"high\": 199.0,\n",
    "                    \"low\": 195.0\n",
    "                },\n",
    "                \"volume\": 17000\n",
    "            }\n",
    "        ],\n",
    "        \"supported_chains\": [\"Binance Smart Chain\", \"Avalanche\"]\n",
    "    },\n",
    "    {\n",
    "        \"name\": \"Token C\",\n",
    "        \"symbol\": \"TKC\",\n",
    "        \"blockchain\": \"Solana\",\n",
    "        \"current_price_usd\": 300.0,\n",
    "        \"transaction_history\": [\n",
    "            {\n",
    "                \"date\": \"2024-01-10\",\n",
    "                \"prices\": {\n",
    "                    \"open\": 295.0,\n",
    "                    \"close\": 300.0,\n",
    "                    \"high\": 302.0,\n",
    "                    \"low\": 294.0\n",
    "                },\n",
    "                \"volume\": 22000\n",
    "            },\n",
    "            {\n",
    "                \"date\": \"2024-01-09\",\n",
    "                \"prices\": {\n",
    "                    \"open\": 294.0,\n",
    "                    \"close\": 295.0,\n",
    "                    \"high\": 296.0,\n",
    "                    \"low\": 293.0\n",
    "                },\n",
    "                \"volume\": 21000\n",
    "            }\n",
    "        ],\n",
    "        \"supported_chains\": [\"Solana\", \"Fantom\"]\n",
    "    }\n",
    "]\n"
   ]
  },
  {
   "cell_type": "code",
   "execution_count": 39,
   "id": "84672e1c-abc5-4b05-98a4-fc58bf7329e0",
   "metadata": {},
   "outputs": [
    {
     "name": "stdout",
     "output_type": "stream",
     "text": [
      "Current price of Token B: 200.0 USD\n"
     ]
    }
   ],
   "source": [
    "# Q1: Read Data\n",
    "# Task: Display the current price of \"Token B\"\n",
    "price = next(t['current_price_usd'] for t in crypto_tokens if t['name']=='Token B')\n",
    "print(f\"Current price of Token B: {price} USD\")"
   ]
  },
  {
   "cell_type": "code",
   "execution_count": 41,
   "id": "a13815d1-0d2b-491e-8209-b5223ee47139",
   "metadata": {},
   "outputs": [
    {
     "name": "stdout",
     "output_type": "stream",
     "text": [
      "Token D metadata: {'name': 'Token D', 'symbol': 'TKD', 'blockchain': 'Arbitrum', 'current_price_usd': 400.0, 'transaction_history': [{'date': '2024-01-10', 'prices': {'open': 395.0, 'close': 400.0, 'high': 405.0, 'low': 390.0}, 'volume': 25000}], 'supported_chains': ['Arbitrum', 'Optimism']}\n"
     ]
    }
   ],
   "source": [
    "# Q2: Write Data\n",
    "# Task: Add a new token \"Token D\" with some initial data to the crypto_tokens list.\n",
    "crypto_tokens.append({\n",
    "    \"name\": \"Token D\",\n",
    "    \"symbol\": \"TKD\",\n",
    "    \"blockchain\": \"Arbitrum\",\n",
    "    \"current_price_usd\": 400.0,\n",
    "    \"transaction_history\": [\n",
    "        {\"date\": \"2024-01-10\", \"prices\": {\"open\": 395.0, \"close\": 400.0, \"high\": 405.0, \"low\": 390.0}, \"volume\": 25000}\n",
    "    ],\n",
    "    \"supported_chains\": [\"Arbitrum\", \"Optimism\"]\n",
    "})\n",
    "print(\"Token D metadata:\", crypto_tokens[-1])"
   ]
  },
  {
   "cell_type": "code",
   "execution_count": 43,
   "id": "17bc3c5b-6709-447b-8d6b-2c0dda71c83e",
   "metadata": {},
   "outputs": [
    {
     "name": "stdout",
     "output_type": "stream",
     "text": [
      "Token D metadata: {'name': 'Token D', 'symbol': 'TKD', 'blockchain': 'Arbitrum', 'current_price_usd': 400.0, 'transaction_history': [{'date': '2024-01-10', 'prices': {'open': 395.0, 'close': 400.0, 'high': 405.0, 'low': 390.0}, 'volume': 25000}], 'supported_chains': ['Arbitrum', 'Optimism']}\n"
     ]
    }
   ],
   "source": [
    "# Q2: Write Data\n",
    "# Task: Add a new token \"Token D\" with some initial data to the crypto_tokens list.\n",
    "crypto_tokens.append({\n",
    "    \"name\": \"Token D\",\n",
    "    \"symbol\": \"TKD\",\n",
    "    \"blockchain\": \"Arbitrum\",\n",
    "    \"current_price_usd\": 400.0,\n",
    "    \"transaction_history\": [\n",
    "        {\"date\": \"2024-01-10\", \"prices\": {\"open\": 395.0, \"close\": 400.0, \"high\": 405.0, \"low\": 390.0}, \"volume\": 25000}\n",
    "    ],\n",
    "    \"supported_chains\": [\"Arbitrum\", \"Optimism\"]\n",
    "})\n",
    "print(\"Token D metadata:\", crypto_tokens[-1])"
   ]
  },
  {
   "cell_type": "code",
   "execution_count": 45,
   "id": "36e35744-8af3-4f29-948b-4ecdf83f1e63",
   "metadata": {},
   "outputs": [
    {
     "name": "stdout",
     "output_type": "stream",
     "text": [
      "Updated Token A transaction history: [{'date': '2024-01-10', 'prices': {'open': 99.0, 'close': 100.0, 'high': 101.0, 'low': 97.0}, 'volume': 12000}]\n"
     ]
    }
   ],
   "source": [
    "# Q4: Delete Data\n",
    "# Task: Remove the transaction history for \"Token A\" on \"2024-01-09\".\n",
    "t = next(t for t in crypto_tokens if t['name']=='Token A')\n",
    "t['transaction_history'] = [tx for tx in t['transaction_history'] if tx['date'] != '2024-01-09']\n",
    "print(\"Updated Token A transaction history:\", t['transaction_history'])"
   ]
  },
  {
   "cell_type": "code",
   "execution_count": 47,
   "id": "9b2378b7-34f0-424f-abce-57fb991cd97c",
   "metadata": {},
   "outputs": [
    {
     "name": "stdout",
     "output_type": "stream",
     "text": [
      "Closing price of Token B on 2024-01-10: 200.0 USD\n"
     ]
    }
   ],
   "source": [
    "# Q5: Read Nested Data\n",
    "# Task: Display the closing price of \"Token B\" on \"2024-01-10\".\n",
    "t = next(t for t in crypto_tokens if t['name']=='Token B')\n",
    "c = next(tx['prices']['close'] for tx in t['transaction_history'] if tx['date'] == '2024-01-10')\n",
    "print(f\"Closing price of Token B on 2024-01-10: {c} USD\")"
   ]
  },
  {
   "cell_type": "code",
   "execution_count": 49,
   "id": "0571f41d-f1f1-4078-9e75-421f3900d634",
   "metadata": {},
   "outputs": [
    {
     "name": "stdout",
     "output_type": "stream",
     "text": [
      "Updated Token A transaction (2024-01-10): {'date': '2024-01-10', 'prices': {'open': 99.0, 'close': 100.0, 'high': 101.0, 'low': 97.0}, 'volume': 12000}\n"
     ]
    }
   ],
   "source": [
    "# Q6: Update Nested Data\n",
    "# Task: Change the opening price of \"Token A\" on \"2024-01-10\" to 99.0.\n",
    "t = next(t for t in crypto_tokens if t['name']=='Token A')\n",
    "tx = next(tx for tx in t['transaction_history'] if tx['date'] == '2024-01-10')\n",
    "tx['prices']['open'] = 99.0\n",
    "print(\"Updated Token A transaction (2024-01-10):\", tx)"
   ]
  },
  {
   "cell_type": "code",
   "execution_count": 51,
   "id": "79c595dc-c291-4b16-8195-6679a37478cd",
   "metadata": {},
   "outputs": [
    {
     "name": "stdout",
     "output_type": "stream",
     "text": [
      "Token C transaction history after adding new entry:\n",
      "{'date': '2024-01-10', 'prices': {'open': 295.0, 'close': 300.0, 'high': 302.0, 'low': 294.0}, 'volume': 22000}\n",
      "{'date': '2024-01-09', 'prices': {'open': 294.0, 'close': 295.0, 'high': 296.0, 'low': 293.0}, 'volume': 21000}\n",
      "{'date': '2024-01-11', 'prices': {'open': 310.0, 'close': 315.0, 'high': 320.0, 'low': 309.0}, 'volume': 23000}\n",
      "{'date': '2024-01-11', 'prices': {'open': 310.0, 'close': 315.0, 'high': 320.0, 'low': 309.0}, 'volume': 23000}\n",
      "{'date': '2024-01-11', 'prices': {'open': 310.0, 'close': 315.0, 'high': 320.0, 'low': 309.0}, 'volume': 23000}\n",
      "{'date': '2024-01-11', 'prices': {'open': 310.0, 'close': 315.0, 'high': 320.0, 'low': 309.0}, 'volume': 23000}\n",
      "{'date': '2024-01-11', 'prices': {'open': 310.0, 'close': 315.0, 'high': 320.0, 'low': 309.0}, 'volume': 23000}\n"
     ]
    }
   ],
   "source": [
    "# Q7: Add Nested Data\n",
    "# Task: Add a new transaction history entry for \"Token C\" on \"2024-01-11\".\n",
    "t = next(t for t in crypto_tokens if t['name']=='Token C')\n",
    "new_tx = {\n",
    "    \"date\": \"2024-01-11\",\n",
    "    \"prices\": {\"open\": 310.0, \"close\": 315.0, \"high\": 320.0, \"low\": 309.0},\n",
    "    \"volume\": 23000\n",
    "}\n",
    "t['transaction_history'].append(new_tx)\n",
    "print(\"Token C transaction history after adding new entry:\")\n",
    "for tx in t['transaction_history']:\n",
    "    print(tx)"
   ]
  },
  {
   "cell_type": "code",
   "execution_count": 53,
   "id": "bfb332ec-09f3-4388-9485-a667f26ad397",
   "metadata": {},
   "outputs": [
    {
     "name": "stdout",
     "output_type": "stream",
     "text": [
      "Updated supported chains for Token B: ['Binance Smart Chain']\n"
     ]
    }
   ],
   "source": [
    "# Q8: Delete an Item from a List Inside a Dictionary\n",
    "# Task: Remove \"Avalanche\" from the supported chains of \"Token B\".\n",
    "t = next(t for t in crypto_tokens if t['name']=='Token B')\n",
    "t['supported_chains'] = [c for c in t['supported_chains'] if c != \"Avalanche\"]\n",
    "print(\"Updated supported chains for Token B:\", t['supported_chains'])"
   ]
  },
  {
   "cell_type": "markdown",
   "id": "d48df216-d7b5-4291-ba97-25b9202ac7e1",
   "metadata": {},
   "source": [
    "# The End of Assignment 1\n"
   ]
  }
 ],
 "metadata": {
  "kernelspec": {
   "display_name": "Python 3 (ipykernel)",
   "language": "python",
   "name": "python3"
  },
  "language_info": {
   "codemirror_mode": {
    "name": "ipython",
    "version": 3
   },
   "file_extension": ".py",
   "mimetype": "text/x-python",
   "name": "python",
   "nbconvert_exporter": "python",
   "pygments_lexer": "ipython3",
   "version": "3.12.3"
  }
 },
 "nbformat": 4,
 "nbformat_minor": 5
}
