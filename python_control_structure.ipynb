{
 "cells": [
  {
   "cell_type": "markdown",
   "id": "11cd2b3d",
   "metadata": {},
   "source": [
    "# Python Problems on Data Structure\n",
    "## This is submission for the second assignment given"
   ]
  },
  {
   "cell_type": "markdown",
   "id": "c735db90",
   "metadata": {},
   "source": [
    "### 1. Daily Gas Fee Average\n",
    "Calculate the average gas fee from a list of daily Ethereum gas fees."
   ]
  },
  {
   "cell_type": "code",
   "execution_count": 2,
   "id": "9516e943",
   "metadata": {},
   "outputs": [
    {
     "name": "stdout",
     "output_type": "stream",
     "text": [
      "Average gas fee: 40.0\n"
     ]
    }
   ],
   "source": [
    "gas_fees = [30, 40, 35, 50, 45]\n",
    "average_gas_fee = sum(gas_fees) / len(gas_fees)\n",
    "print(\"Average gas fee:\", average_gas_fee)"
   ]
  },
  {
   "cell_type": "markdown",
   "id": "a4ef114e",
   "metadata": {},
   "source": [
    "### 2. Highest Daily Transaction Count\n",
    "Find the day with the highest number of transactions on a blockchain."
   ]
  },
  {
   "cell_type": "code",
   "execution_count": 3,
   "id": "1752f871",
   "metadata": {},
   "outputs": [
    {
     "name": "stdout",
     "output_type": "stream",
     "text": [
      "Day with the highest transaction count: Day 4\n"
     ]
    }
   ],
   "source": [
    "transaction_counts = [1200, 1400, 1350, 1600, 1100]\n",
    "max_day = transaction_counts.index(max(transaction_counts)) + 1\n",
    "print(\"Day with the highest transaction count:\", \"Day\", max_day)"
   ]
  },
  {
   "cell_type": "markdown",
   "id": "b525ed7d",
   "metadata": {},
   "source": [
    "### 3. Find Token Min/Max Price\n",
    "Determine the lowest and highest price of a token over a week."
   ]
  },
  {
   "cell_type": "code",
   "execution_count": 4,
   "id": "03a3e61c",
   "metadata": {},
   "outputs": [
    {
     "name": "stdout",
     "output_type": "stream",
     "text": [
      "Min: 2.0 Max: 2.8\n"
     ]
    }
   ],
   "source": [
    "prices = [2.1, 2.5, 2.0, 2.8, 2.6]\n",
    "min_price = min(prices)\n",
    "max_price = max(prices)\n",
    "print(\"Min:\", min_price, \"Max:\", max_price)"
   ]
  },
  {
   "cell_type": "markdown",
   "id": "ddc9ce54",
   "metadata": {},
   "source": [
    "### 4. Simple Moving Average for Token Price\n",
    "Compute the simple moving average of a token’s price for a given window."
   ]
  },
  {
   "cell_type": "code",
   "execution_count": 5,
   "id": "3c13b72b",
   "metadata": {},
   "outputs": [
    {
     "name": "stdout",
     "output_type": "stream",
     "text": [
      "Moving averages: [1.17, 1.3, 1.43]\n"
     ]
    }
   ],
   "source": [
    "prices = [1.0, 1.2, 1.3, 1.4, 1.6]\n",
    "window = 3\n",
    "moving_averages = []\n",
    "for i in range(len(prices) - window + 1):\n",
    "    window_avg = sum(prices[i:i+window]) / window\n",
    "    moving_averages.append(round(window_avg, 2))\n",
    "print(\"Moving averages:\", moving_averages)"
   ]
  },
  {
   "cell_type": "markdown",
   "id": "98d5adce",
   "metadata": {},
   "source": [
    "### 5. Count Profitable Days on DEX\n",
    "Count the number of days a trader had a positive return on a DEX."
   ]
  },
  {
   "cell_type": "code",
   "execution_count": 6,
   "id": "fc3ea057",
   "metadata": {},
   "outputs": [
    {
     "name": "stdout",
     "output_type": "stream",
     "text": [
      "Number of profitable days: 3\n"
     ]
    }
   ],
   "source": [
    "daily_pnl = [0.03, -0.02, 0.01, 0.04, -0.01]\n",
    "profitable_days = sum(1 for pnl in daily_pnl if pnl > 0)\n",
    "print(\"Number of profitable days:\", profitable_days)"
   ]
  },
  {
   "cell_type": "markdown",
   "id": "51435413",
   "metadata": {},
   "source": [
    "### 6. Average Number of Tokens Held\n",
    "Calculate the average number of tokens held across wallets."
   ]
  },
  {
   "cell_type": "code",
   "execution_count": 7,
   "id": "fb66cde0",
   "metadata": {},
   "outputs": [
    {
     "name": "stdout",
     "output_type": "stream",
     "text": [
      "Average tokens held: 187.5\n"
     ]
    }
   ],
   "source": [
    "holdings = [100, 200, 150, 300]\n",
    "average_holdings = sum(holdings) / len(holdings)\n",
    "print(\"Average tokens held:\", average_holdings)"
   ]
  },
  {
   "cell_type": "markdown",
   "id": "b0668d3f",
   "metadata": {},
   "source": [
    "### 7. Wallets Above Holding Threshold\n",
    "Count the number of wallets holding more than 100 tokens."
   ]
  },
  {
   "cell_type": "code",
   "execution_count": 8,
   "id": "6e5211c9",
   "metadata": {},
   "outputs": [
    {
     "name": "stdout",
     "output_type": "stream",
     "text": [
      "Number of wallets above threshold: 3\n"
     ]
    }
   ],
   "source": [
    "holdings = [50, 150, 120, 80, 200]\n",
    "above_threshold = sum(1 for h in holdings if h > 100)\n",
    "print(\"Number of wallets above threshold:\", above_threshold)"
   ]
  },
  {
   "cell_type": "markdown",
   "id": "9c630f11",
   "metadata": {},
   "source": [
    "### 8. Total Gas Spent by Wallets\n",
    "Calculate total gas used by multiple wallets across transactions."
   ]
  },
  {
   "cell_type": "code",
   "execution_count": 9,
   "id": "fe06a72d",
   "metadata": {},
   "outputs": [
    {
     "name": "stdout",
     "output_type": "stream",
     "text": [
      "Total gas used: 103000\n"
     ]
    }
   ],
   "source": [
    "gas_used = [21000, 50000, 32000]\n",
    "total_gas = sum(gas_used)\n",
    "print(\"Total gas used:\", total_gas)"
   ]
  },
  {
   "cell_type": "markdown",
   "id": "d7f77117",
   "metadata": {},
   "source": [
    "### 9. Cumulative Token Airdrop\n",
    "Calculate the total tokens distributed in an airdrop across multiple addresses."
   ]
  },
  {
   "cell_type": "code",
   "execution_count": 10,
   "id": "a878016d",
   "metadata": {},
   "outputs": [
    {
     "name": "stdout",
     "output_type": "stream",
     "text": [
      "Total tokens distributed: 250\n"
     ]
    }
   ],
   "source": [
    "airdrop_amounts = [50, 75, 100, 25]\n",
    "total_airdrop = sum(airdrop_amounts)\n",
    "print(\"Total tokens distributed:\", total_airdrop)"
   ]
  },
  {
   "cell_type": "markdown",
   "id": "de7f4495",
   "metadata": {},
   "source": [
    "### 10. Average Bridge Fee Across Chains\n",
    "Find the average fee users pay when bridging tokens across chains."
   ]
  },
  {
   "cell_type": "code",
   "execution_count": 11,
   "id": "77c81b6b",
   "metadata": {},
   "outputs": [
    {
     "name": "stdout",
     "output_type": "stream",
     "text": [
      "Average fee: 1.125\n"
     ]
    }
   ],
   "source": [
    "bridge_fees = [1.2, 0.8, 1.0, 1.5]\n",
    "average_fee = sum(bridge_fees) / len(bridge_fees)\n",
    "print(\"Average fee:\", average_fee)"
   ]
  },
  {
   "cell_type": "markdown",
   "id": "2286b07f",
   "metadata": {},
   "source": [
    "## CONDITIONAL STATEMENTS"
   ]
  },
  {
   "cell_type": "markdown",
   "id": "1896dd53",
   "metadata": {},
   "source": [
    "### 11. Token Price Classification\n",
    "Classify a token’s price movement as “Bullish” if it increased, “Bearish” if decreased."
   ]
  },
  {
   "cell_type": "code",
   "execution_count": 12,
   "id": "fc1b1696",
   "metadata": {},
   "outputs": [
    {
     "name": "stdout",
     "output_type": "stream",
     "text": [
      "Bullish\n"
     ]
    }
   ],
   "source": [
    "previous_price = 2.0\n",
    "current_price = 2.3\n",
    "if current_price > previous_price:\n",
    "    print(\"Bullish\")\n",
    "elif current_price < previous_price:\n",
    "    print(\"Bearish\")\n",
    "else:\n",
    "    print(\"No change\")"
   ]
  },
  {
   "cell_type": "markdown",
   "id": "7a8a7462",
   "metadata": {},
   "source": [
    "### 12. Gas Fee Alert System\n",
    "Alert if Ethereum gas fee exceeds a given threshold (e.g., 100 Gwei)."
   ]
  },
  {
   "cell_type": "code",
   "execution_count": 13,
   "id": "ae36939e",
   "metadata": {},
   "outputs": [
    {
     "name": "stdout",
     "output_type": "stream",
     "text": [
      "High gas fee alert!\n"
     ]
    }
   ],
   "source": [
    "gas_fee = 120\n",
    "threshold = 100\n",
    "if gas_fee > threshold:\n",
    "    print(\"High gas fee alert!\")\n",
    "else:\n",
    "    print(\"Gas fee normal\")"
   ]
  },
  {
   "cell_type": "markdown",
   "id": "e9d85795",
   "metadata": {},
   "source": [
    "### 13. Detect Whale Wallet\n",
    "Identify if a wallet is a whale based on token balance (>10,000 tokens)."
   ]
  },
  {
   "cell_type": "code",
   "execution_count": 14,
   "id": "4a9a893e",
   "metadata": {},
   "outputs": [
    {
     "name": "stdout",
     "output_type": "stream",
     "text": [
      "Whale wallet\n"
     ]
    }
   ],
   "source": [
    "token_balance = 15000\n",
    "if token_balance > 10000:\n",
    "    print(\"Whale wallet\")\n",
    "else:\n",
    "    print(\"Regular wallet\")"
   ]
  },
  {
   "cell_type": "markdown",
   "id": "4651b8b5",
   "metadata": {},
   "source": [
    "### 14. Token Transfer Flag\n",
    "Flag a transaction as “Suspicious” if the amount is above 1 million tokens."
   ]
  },
  {
   "cell_type": "code",
   "execution_count": 15,
   "id": "fc20fbe1",
   "metadata": {},
   "outputs": [
    {
     "name": "stdout",
     "output_type": "stream",
     "text": [
      "Suspicious\n"
     ]
    }
   ],
   "source": [
    "transfer_amount = 1200000\n",
    "if transfer_amount > 1000000:\n",
    "    print(\"Suspicious\")\n",
    "else:\n",
    "    print(\"Normal\")"
   ]
  },
  {
   "cell_type": "markdown",
   "id": "299a6f89",
   "metadata": {},
   "source": [
    "### 15. DEX Slippage Warning\n",
    "Warn users if the slippage is greater than 5%."
   ]
  },
  {
   "cell_type": "code",
   "execution_count": 16,
   "id": "44de8c63",
   "metadata": {},
   "outputs": [
    {
     "name": "stdout",
     "output_type": "stream",
     "text": [
      "High slippage detected\n"
     ]
    }
   ],
   "source": [
    "slippage = 6.5\n",
    "if slippage > 5:\n",
    "    print(\"High slippage detected\")\n",
    "else:\n",
    "    print(\"Slippage normal\")"
   ]
  },
  {
   "cell_type": "markdown",
   "id": "ed867bc8",
   "metadata": {},
   "source": [
    "### 16. NFT Mint Status Check\n",
    "Check if an NFT is sold out or available for mint."
   ]
  },
  {
   "cell_type": "code",
   "execution_count": 17,
   "id": "eb11056d",
   "metadata": {},
   "outputs": [
    {
     "name": "stdout",
     "output_type": "stream",
     "text": [
      "Sold Out\n"
     ]
    }
   ],
   "source": [
    "total_supply = 10000\n",
    "minted_count = 10000\n",
    "if minted_count >= total_supply:\n",
    "    print(\"Sold Out\")\n",
    "else:\n",
    "    print(\"Available for mint\")"
   ]
  },
  {
   "cell_type": "markdown",
   "id": "17b1dffc",
   "metadata": {},
   "source": [
    "### 17. Stablecoin Health Check\n",
    "Determine if a stablecoin is depegged (if price deviates from $1 by more than ±5%)."
   ]
  },
  {
   "cell_type": "code",
   "execution_count": 18,
   "id": "bd911e3a",
   "metadata": {},
   "outputs": [
    {
     "name": "stdout",
     "output_type": "stream",
     "text": [
      "Depegged\n"
     ]
    }
   ],
   "source": [
    "stablecoin_price = 0.93\n",
    "if abs(stablecoin_price - 1) > 0.05:\n",
    "    print(\"Depegged\")\n",
    "else:\n",
    "    print(\"Healthy\")"
   ]
  },
  {
   "cell_type": "markdown",
   "id": "ab3140c2",
   "metadata": {},
   "source": [
    "### 18. Reward Eligibility\n",
    "Check if a user qualifies for staking rewards (must stake ≥ 500 tokens)."
   ]
  },
  {
   "cell_type": "code",
   "execution_count": 19,
   "id": "8d7fc501",
   "metadata": {},
   "outputs": [
    {
     "name": "stdout",
     "output_type": "stream",
     "text": [
      "Not eligible\n"
     ]
    }
   ],
   "source": [
    "tokens_staked = 300\n",
    "if tokens_staked >= 500:\n",
    "    print(\"Eligible\")\n",
    "else:\n",
    "    print(\"Not eligible\")"
   ]
  },
  {
   "cell_type": "markdown",
   "id": "76adf5a2",
   "metadata": {},
   "source": [
    "### 19. Airdrop Eligibility\n",
    "Check if a wallet is eligible for airdrop (must hold a specific token and have at least 5 transactions)."
   ]
  },
  {
   "cell_type": "code",
   "execution_count": 20,
   "id": "9585813b",
   "metadata": {},
   "outputs": [
    {
     "name": "stdout",
     "output_type": "stream",
     "text": [
      "Eligible\n"
     ]
    }
   ],
   "source": [
    "holdings = 100\n",
    "num_transactions = 6\n",
    "if holdings > 0 and num_transactions >= 5:\n",
    "    print(\"Eligible\")\n",
    "else:\n",
    "    print(\"Not eligible\")"
   ]
  },
  {
   "cell_type": "markdown",
   "id": "8acbb13b",
   "metadata": {},
   "source": [
    "### 20. Transaction Fee Efficiency\n",
    "Flag if a transaction fee is greater than 5% of transaction amount."
   ]
  },
  {
   "cell_type": "code",
   "execution_count": 21,
   "id": "9202ac26",
   "metadata": {},
   "outputs": [
    {
     "name": "stdout",
     "output_type": "stream",
     "text": [
      "Inefficient\n"
     ]
    }
   ],
   "source": [
    "fee = 3\n",
    "transaction_amount = 50\n",
    "if fee > 0.05 * transaction_amount:\n",
    "    print(\"Inefficient\")\n",
    "else:\n",
    "    print(\"Efficient\")"
   ]
  },
  {
   "cell_type": "markdown",
   "id": "339231db",
   "metadata": {},
   "source": [
    "# The End of Assignment 2"
   ]
  }
 ],
 "metadata": {
  "kernelspec": {
   "display_name": "base",
   "language": "python",
   "name": "python3"
  },
  "language_info": {
   "codemirror_mode": {
    "name": "ipython",
    "version": 3
   },
   "file_extension": ".py",
   "mimetype": "text/x-python",
   "name": "python",
   "nbconvert_exporter": "python",
   "pygments_lexer": "ipython3",
   "version": "3.11.5"
  }
 },
 "nbformat": 4,
 "nbformat_minor": 5
}
